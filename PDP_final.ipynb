{
 "cells": [
  {
   "cell_type": "code",
   "execution_count": 1,
   "id": "8f6dca46",
   "metadata": {},
   "outputs": [
    {
     "name": "stderr",
     "output_type": "stream",
     "text": [
      "C:\\Users\\chosungsu\\anaconda3\\lib\\site-packages\\sklearn\\experimental\\enable_hist_gradient_boosting.py:16: UserWarning: Since version 1.0, it is not needed to import enable_hist_gradient_boosting anymore. HistGradientBoostingClassifier and HistGradientBoostingRegressor are now stable and can be normally imported from sklearn.ensemble.\n",
      "  warnings.warn(\n"
     ]
    }
   ],
   "source": [
    "import pandas as pd\n",
    "import numpy as np\n",
    "import requests\n",
    "import xmltodict\n",
    "import urllib.request\n",
    "import pprint\n",
    "import json\n",
    "import csv\n",
    "np.set_printoptions(suppress=True) \n",
    "import pandas as pd\n",
    "from sklearn.ensemble import VotingClassifier\n",
    "from sklearn.metrics import mean_absolute_error\n",
    "from sklearn.linear_model import LogisticRegression\n",
    "from sklearn.ensemble import AdaBoostRegressor\n",
    "from sklearn.tree import DecisionTreeRegressor\n",
    "from sklearn.neighbors import KNeighborsClassifier\n",
    "from sklearn.metrics import accuracy_score\n",
    "from time import time\n",
    "import matplotlib.pyplot as plt\n",
    "from mpl_toolkits.mplot3d import Axes3D\n",
    "from sklearn.model_selection import train_test_split\n",
    "from sklearn.preprocessing import QuantileTransformer\n",
    "from sklearn.pipeline import make_pipeline\n",
    "from sklearn.inspection import partial_dependence\n",
    "from sklearn.inspection import plot_partial_dependence\n",
    "from sklearn.experimental import enable_hist_gradient_boosting\n",
    "from sklearn.neural_network import MLPRegressor\n",
    "from sklearn.ensemble import RandomForestClassifier\n",
    "from eli5.sklearn import PermutationImportance\n",
    "from sklearn.metrics import r2_score"
   ]
  },
  {
   "cell_type": "code",
   "execution_count": 2,
   "id": "9e6f2697",
   "metadata": {},
   "outputs": [],
   "source": [
    "data = pd.read_csv('data_file_csv_final.csv', encoding='utf-8')"
   ]
  },
  {
   "cell_type": "code",
   "execution_count": 3,
   "id": "eca001cc",
   "metadata": {},
   "outputs": [],
   "source": [
    "x=np.array(data.loc[: ,['end_destination', 'startplus',\n",
    "                        'receipt-ride','hour',\n",
    "                         'startpos1', 'startpos2']])\n",
    "y=data['endplus']\n",
    "#  data train,test로 나누기\n",
    "x_train, x_test, y_train, y_test = train_test_split(\n",
    "    x,y, test_size=0.1, random_state=42, shuffle=False)"
   ]
  },
  {
   "cell_type": "code",
   "execution_count": 4,
   "id": "e1e38953",
   "metadata": {},
   "outputs": [
    {
     "name": "stdout",
     "output_type": "stream",
     "text": [
      "MAE:  18.616815476190474\n",
      "R2: 0.44\n"
     ]
    }
   ],
   "source": [
    "base_model = DecisionTreeRegressor(random_state=10)\n",
    "ada_model = AdaBoostRegressor(\n",
    "        base_estimator=base_model,\n",
    "        n_estimators=1000,\n",
    "        learning_rate=0.1).fit(x_train,y_train)\n",
    "yte_pred=ada_model.predict(x_test)\n",
    "ada_r2 = r2_score(y_test, yte_pred)\n",
    "# AdaBoost 결과 MAE 확인\n",
    "print('MAE: ', mean_absolute_error(y_test, yte_pred))\n",
    "print(\"R2: %.2f\" % ada_r2)"
   ]
  },
  {
   "cell_type": "code",
   "execution_count": 5,
   "id": "a993c295",
   "metadata": {},
   "outputs": [
    {
     "name": "stdout",
     "output_type": "stream",
     "text": [
      "MAE:  16.052884615384617\n",
      "R2: 0.49\n"
     ]
    }
   ],
   "source": [
    "rf_clf = RandomForestClassifier()\n",
    "knn_data = KNeighborsClassifier(n_neighbors=5)\n",
    "#  개별 모델을 소프트 보팅 기반의 앙상블 모델로 구현한 분류기 \n",
    "vo_data = VotingClassifier(estimators=[(\"RF\", rf_clf), \n",
    "                                       (\"KNN\", knn_data)], voting=\"soft\")\n",
    "vo_final = vo_data.fit(x_train, y_train)\n",
    "yte_pred = vo_data.predict(x_test)\n",
    "vo_r2 = r2_score(y_test, yte_pred)\n",
    "# VotingClassifier 결과 MAE 확인\n",
    "print('MAE: ', mean_absolute_error(y_test, yte_pred))\n",
    "print(\"R2: %.2f\" % vo_r2)"
   ]
  },
  {
   "cell_type": "code",
   "execution_count": 6,
   "id": "a2cbb80d",
   "metadata": {},
   "outputs": [
    {
     "name": "stdout",
     "output_type": "stream",
     "text": [
      "done in 1.320s\n",
      "MAE:  17.882642730040306\n",
      "R2: 0.44\n"
     ]
    }
   ],
   "source": [
    "tic = time()\n",
    "pipe = make_pipeline(QuantileTransformer(),\n",
    "                     vo_data,\n",
    "                     ada_model,\n",
    "                    )\n",
    "pipe.fit(x_train,y_train)\n",
    "yte_pred = pipe.predict(x_test)\n",
    "pipe_r2 = r2_score(y_test, yte_pred)\n",
    "print(\"done in {:.3f}s\".format(time()-tic))\n",
    "# Pipeline 결과 MAE 확인\n",
    "print('MAE: ', mean_absolute_error(y_test, yte_pred))\n",
    "print(\"R2: %.2f\" % pipe_r2)"
   ]
  },
  {
   "cell_type": "code",
   "execution_count": 7,
   "id": "926c13d6",
   "metadata": {},
   "outputs": [
    {
     "data": {
      "text/plain": [
       "startplus          14.556270\n",
       "startpos2          13.493574\n",
       "end_destination    13.039375\n",
       "receipt-ride        7.423259\n",
       "startpos1           6.880773\n",
       "hour                0.072245\n",
       "dtype: float64"
      ]
     },
     "execution_count": 7,
     "metadata": {},
     "output_type": "execute_result"
    }
   ],
   "source": [
    "#x_names : x변수를 리스트화\n",
    "x_names = ['end_destination', 'startplus',\n",
    "                        'receipt-ride','hour',\n",
    "                         'startpos1', 'startpos2']\n",
    "# permuter 생성\n",
    "permuter = PermutationImportance(\n",
    "    pipe,\n",
    "    scoring='neg_mean_absolute_error',\n",
    "    n_iter=3,\n",
    "    random_state=1)\n",
    "# permutation importance 계산\n",
    "permuter.fit(x_test, y_test)\n",
    "# 결과 확인\n",
    "feature_names = x_names\n",
    "pd.Series(permuter.feature_importances_, \n",
    "          feature_names).sort_values(ascending=False)"
   ]
  },
  {
   "cell_type": "code",
   "execution_count": 8,
   "id": "c377579a",
   "metadata": {},
   "outputs": [
    {
     "data": {
      "image/png": "[encoded data removed]",
      "text/plain": [
       "<Figure size 432x288 with 1 Axes>"
      ]
     },
     "metadata": {
      "needs_background": "light"
     },
     "output_type": "display_data"
    }
   ],
   "source": [
    "#위 결과를 바탕으로 그린 변수 중요도 파악용 바그래프(참고하세요)\n",
    "plt.rc('font', family = 'NanumGothic')\n",
    "plt.barh(feature_names, permuter.feature_importances_, \n",
    "        color='maroon', height = 0.6, align='center', alpha = 0.7)\n",
    "plt.title('중요한 변수 선정')\n",
    "plt.ylabel('변수이름')\n",
    "plt.xlabel('중요도')\n",
    "plt.show()"
   ]
  }
 ],
 "metadata": {
  "kernelspec": {
   "display_name": "Python 3 (ipykernel)",
   "language": "python",
   "name": "python3"
  },
  "language_info": {
   "codemirror_mode": {
    "name": "ipython",
    "version": 3
   },
   "file_extension": ".py",
   "mimetype": "text/x-python",
   "name": "python",
   "nbconvert_exporter": "python",
   "pygments_lexer": "ipython3",
   "version": "3.9.7"
  }
 },
 "nbformat": 4,
 "nbformat_minor": 5
}
